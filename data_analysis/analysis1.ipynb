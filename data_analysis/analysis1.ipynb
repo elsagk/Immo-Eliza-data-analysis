{
 "cells": [
  {
   "cell_type": "code",
   "execution_count": 188,
   "metadata": {},
   "outputs": [],
   "source": [
    "import pandas as pd\n",
    "import matplotlib.pyplot as plt\n",
    "import numpy as np"
   ]
  },
  {
   "cell_type": "code",
   "execution_count": 189,
   "metadata": {},
   "outputs": [
    {
     "data": {
      "text/html": [
       "<div>\n",
       "<style scoped>\n",
       "    .dataframe tbody tr th:only-of-type {\n",
       "        vertical-align: middle;\n",
       "    }\n",
       "\n",
       "    .dataframe tbody tr th {\n",
       "        vertical-align: top;\n",
       "    }\n",
       "\n",
       "    .dataframe thead th {\n",
       "        text-align: right;\n",
       "    }\n",
       "</style>\n",
       "<table border=\"1\" class=\"dataframe\">\n",
       "  <thead>\n",
       "    <tr style=\"text-align: right;\">\n",
       "      <th></th>\n",
       "      <th>id</th>\n",
       "      <th>Locality</th>\n",
       "      <th>Type of property</th>\n",
       "      <th>Subtype of property</th>\n",
       "      <th>Price</th>\n",
       "      <th>Type of sale</th>\n",
       "      <th>Number of rooms</th>\n",
       "      <th>Living Area</th>\n",
       "      <th>Fully equipped kitchen</th>\n",
       "      <th>Terrace</th>\n",
       "      <th>Terrace area</th>\n",
       "      <th>Garden</th>\n",
       "      <th>Garden area</th>\n",
       "      <th>Surface of the land</th>\n",
       "      <th>Surface area of the plot of land</th>\n",
       "      <th>Number of facades</th>\n",
       "      <th>Swimming pool</th>\n",
       "      <th>State of the building</th>\n",
       "      <th>Compound Listing</th>\n",
       "    </tr>\n",
       "  </thead>\n",
       "  <tbody>\n",
       "    <tr>\n",
       "      <th>0</th>\n",
       "      <td>20320744</td>\n",
       "      <td>1150</td>\n",
       "      <td>APARTMENT</td>\n",
       "      <td>APARTMENT</td>\n",
       "      <td>575000</td>\n",
       "      <td>residential_sale</td>\n",
       "      <td>3</td>\n",
       "      <td>160.0</td>\n",
       "      <td>1.0</td>\n",
       "      <td>1.0</td>\n",
       "      <td>40.0</td>\n",
       "      <td>1.0</td>\n",
       "      <td>290.000000</td>\n",
       "      <td>290.000000</td>\n",
       "      <td>1091.083161</td>\n",
       "      <td>2.707052</td>\n",
       "      <td>0.000000</td>\n",
       "      <td>dfGOOD</td>\n",
       "      <td>single</td>\n",
       "    </tr>\n",
       "    <tr>\n",
       "      <th>1</th>\n",
       "      <td>20317718</td>\n",
       "      <td>9000</td>\n",
       "      <td>APARTMENT</td>\n",
       "      <td>APARTMENT</td>\n",
       "      <td>390000</td>\n",
       "      <td>residential_sale</td>\n",
       "      <td>3</td>\n",
       "      <td>96.0</td>\n",
       "      <td>1.0</td>\n",
       "      <td>1.0</td>\n",
       "      <td>29.0</td>\n",
       "      <td>1.0</td>\n",
       "      <td>519.796445</td>\n",
       "      <td>519.796445</td>\n",
       "      <td>1091.083161</td>\n",
       "      <td>2.000000</td>\n",
       "      <td>0.000000</td>\n",
       "      <td>AS_NEW</td>\n",
       "      <td>compound</td>\n",
       "    </tr>\n",
       "    <tr>\n",
       "      <th>2</th>\n",
       "      <td>20315842</td>\n",
       "      <td>9051</td>\n",
       "      <td>APARTMENT</td>\n",
       "      <td>APARTMENT</td>\n",
       "      <td>260000</td>\n",
       "      <td>residential_sale</td>\n",
       "      <td>1</td>\n",
       "      <td>76.0</td>\n",
       "      <td>1.0</td>\n",
       "      <td>1.0</td>\n",
       "      <td>12.0</td>\n",
       "      <td>1.0</td>\n",
       "      <td>519.796445</td>\n",
       "      <td>519.796445</td>\n",
       "      <td>1091.083161</td>\n",
       "      <td>2.707052</td>\n",
       "      <td>0.048839</td>\n",
       "      <td>GOOD</td>\n",
       "      <td>compound</td>\n",
       "    </tr>\n",
       "    <tr>\n",
       "      <th>3</th>\n",
       "      <td>20315799</td>\n",
       "      <td>9051</td>\n",
       "      <td>APARTMENT</td>\n",
       "      <td>APARTMENT</td>\n",
       "      <td>325000</td>\n",
       "      <td>residential_sale</td>\n",
       "      <td>1</td>\n",
       "      <td>81.0</td>\n",
       "      <td>1.0</td>\n",
       "      <td>1.0</td>\n",
       "      <td>13.0</td>\n",
       "      <td>1.0</td>\n",
       "      <td>519.796445</td>\n",
       "      <td>519.796445</td>\n",
       "      <td>1091.083161</td>\n",
       "      <td>2.707052</td>\n",
       "      <td>0.048839</td>\n",
       "      <td>GOOD</td>\n",
       "      <td>compound</td>\n",
       "    </tr>\n",
       "    <tr>\n",
       "      <th>4</th>\n",
       "      <td>20315776</td>\n",
       "      <td>9051</td>\n",
       "      <td>APARTMENT</td>\n",
       "      <td>APARTMENT</td>\n",
       "      <td>365000</td>\n",
       "      <td>residential_sale</td>\n",
       "      <td>3</td>\n",
       "      <td>101.0</td>\n",
       "      <td>1.0</td>\n",
       "      <td>1.0</td>\n",
       "      <td>13.0</td>\n",
       "      <td>1.0</td>\n",
       "      <td>519.796445</td>\n",
       "      <td>519.796445</td>\n",
       "      <td>1091.083161</td>\n",
       "      <td>2.707052</td>\n",
       "      <td>0.048839</td>\n",
       "      <td>GOOD</td>\n",
       "      <td>compound</td>\n",
       "    </tr>\n",
       "  </tbody>\n",
       "</table>\n",
       "</div>"
      ],
      "text/plain": [
       "         id  Locality Type of property Subtype of property   Price  \\\n",
       "0  20320744      1150        APARTMENT           APARTMENT  575000   \n",
       "1  20317718      9000        APARTMENT           APARTMENT  390000   \n",
       "2  20315842      9051        APARTMENT           APARTMENT  260000   \n",
       "3  20315799      9051        APARTMENT           APARTMENT  325000   \n",
       "4  20315776      9051        APARTMENT           APARTMENT  365000   \n",
       "\n",
       "       Type of sale  Number of rooms  Living Area  Fully equipped kitchen  \\\n",
       "0  residential_sale                3        160.0                     1.0   \n",
       "1  residential_sale                3         96.0                     1.0   \n",
       "2  residential_sale                1         76.0                     1.0   \n",
       "3  residential_sale                1         81.0                     1.0   \n",
       "4  residential_sale                3        101.0                     1.0   \n",
       "\n",
       "   Terrace  Terrace area  Garden  Garden area  Surface of the land  \\\n",
       "0      1.0          40.0     1.0   290.000000           290.000000   \n",
       "1      1.0          29.0     1.0   519.796445           519.796445   \n",
       "2      1.0          12.0     1.0   519.796445           519.796445   \n",
       "3      1.0          13.0     1.0   519.796445           519.796445   \n",
       "4      1.0          13.0     1.0   519.796445           519.796445   \n",
       "\n",
       "   Surface area of the plot of land  Number of facades  Swimming pool  \\\n",
       "0                       1091.083161           2.707052       0.000000   \n",
       "1                       1091.083161           2.000000       0.000000   \n",
       "2                       1091.083161           2.707052       0.048839   \n",
       "3                       1091.083161           2.707052       0.048839   \n",
       "4                       1091.083161           2.707052       0.048839   \n",
       "\n",
       "  State of the building Compound Listing  \n",
       "0                dfGOOD           single  \n",
       "1                AS_NEW         compound  \n",
       "2                  GOOD         compound  \n",
       "3                  GOOD         compound  \n",
       "4                  GOOD         compound  "
      ]
     },
     "execution_count": 189,
     "metadata": {},
     "output_type": "execute_result"
    }
   ],
   "source": [
    "df = pd.read_csv('cleaned_data.csv')\n",
    "df.head()"
   ]
  },
  {
   "cell_type": "code",
   "execution_count": 190,
   "metadata": {},
   "outputs": [
    {
     "data": {
      "text/plain": [
       "id                                    int64\n",
       "Locality                              int64\n",
       "Type of property                     object\n",
       "Subtype of property                  object\n",
       "Price                                 int64\n",
       "Type of sale                         object\n",
       "Number of rooms                       int64\n",
       "Living Area                         float64\n",
       "Fully equipped kitchen              float64\n",
       "Terrace                             float64\n",
       "Terrace area                        float64\n",
       "Garden                              float64\n",
       "Garden area                         float64\n",
       "Surface of the land                 float64\n",
       "Surface area of the plot of land    float64\n",
       "Number of facades                   float64\n",
       "Swimming pool                       float64\n",
       "State of the building                object\n",
       "Compound Listing                     object\n",
       "dtype: object"
      ]
     },
     "execution_count": 190,
     "metadata": {},
     "output_type": "execute_result"
    }
   ],
   "source": [
    "df.dtypes"
   ]
  },
  {
   "cell_type": "code",
   "execution_count": 191,
   "metadata": {},
   "outputs": [
    {
     "name": "stdout",
     "output_type": "stream",
     "text": [
      "number of rows are:13965 , number of columns are:19\n"
     ]
    }
   ],
   "source": [
    "# number of row and columns\n",
    "number_of_rows, number_of_columns= df.shape\n",
    "print(f\"number of rows are:{number_of_rows} , number of columns are:{number_of_columns}\")"
   ]
  },
  {
   "cell_type": "code",
   "execution_count": 192,
   "metadata": {},
   "outputs": [
    {
     "name": "stdout",
     "output_type": "stream",
     "text": [
      "number of quantitaives are:14, and number of qualtitaives are:5\n"
     ]
    }
   ],
   "source": [
    "Quantitative=len(df.select_dtypes(include=[\"float64\",\"int64\"]).columns)\n",
    "Qualitative=len(df.select_dtypes(include=[\"object\"]).columns)\n",
    "print(f\"number of quantitaives are:{Quantitative}, and number of qualtitaives are:{Qualitative}\")\n"
   ]
  },
  {
   "cell_type": "markdown",
   "metadata": {},
   "source": [
    "# Visualizations"
   ]
  },
  {
   "cell_type": "markdown",
   "metadata": {},
   "source": [
    "### What is the correlation between the variables and the price"
   ]
  },
  {
   "cell_type": "code",
   "execution_count": 193,
   "metadata": {},
   "outputs": [
    {
     "name": "stdout",
     "output_type": "stream",
     "text": [
      "correlation with price \n",
      " id                                 -0.027931\n",
      "Locality                           -0.023832\n",
      "Price                               1.000000\n",
      "Number of rooms                     0.392863\n",
      "Living Area                         0.472659\n",
      "Fully equipped kitchen                   NaN\n",
      "Terrace                                  NaN\n",
      "Terrace area                        0.103231\n",
      "Garden                                   NaN\n",
      "Garden area                         0.129611\n",
      "Surface of the land                 0.129611\n",
      "Surface area of the plot of land    0.217075\n",
      "Number of facades                   0.128878\n",
      "Swimming pool                       0.211091\n",
      "Name: Price, dtype: float64\n"
     ]
    }
   ],
   "source": [
    "# let's calculate the the correlation matrix\n",
    "# first let's take only numbers\n",
    "Quantitative=df.select_dtypes(include=[\"number\"])\n",
    "\n",
    "correlation_matrix=Quantitative.corr()\n",
    "\n",
    "# now let's find the correlation between the variables and price\n",
    "if \"Price\" in df.columns:\n",
    "    price_correlation_with_Other_variables=correlation_matrix[\"Price\"]\n",
    "    print(f\"correlation with price \\n {price_correlation_with_Other_variables}\")\n"
   ]
  },
  {
   "cell_type": "markdown",
   "metadata": {},
   "source": [
    "### How are variables correlated to each other?"
   ]
  },
  {
   "cell_type": "code",
   "execution_count": 194,
   "metadata": {},
   "outputs": [
    {
     "name": "stdout",
     "output_type": "stream",
     "text": [
      "correlation \n",
      "                                         id  Locality     Price  \\\n",
      "id                                1.000000 -0.081598 -0.027931   \n",
      "Locality                         -0.081598  1.000000 -0.023832   \n",
      "Price                            -0.027931 -0.023832  1.000000   \n",
      "Number of rooms                   0.087513  0.104522  0.392863   \n",
      "Living Area                       0.082392  0.061612  0.472659   \n",
      "Fully equipped kitchen                 NaN       NaN       NaN   \n",
      "Terrace                                NaN       NaN       NaN   \n",
      "Terrace area                      0.013929  0.017622  0.103231   \n",
      "Garden                                 NaN       NaN       NaN   \n",
      "Garden area                       0.003840  0.016377  0.129611   \n",
      "Surface of the land               0.003840  0.016377  0.129611   \n",
      "Surface area of the plot of land -0.006360  0.012804  0.217075   \n",
      "Number of facades                 0.031761  0.096892  0.128878   \n",
      "Swimming pool                     0.018000  0.052172  0.211091   \n",
      "\n",
      "                                  Number of rooms  Living Area  \\\n",
      "id                                       0.087513     0.082392   \n",
      "Locality                                 0.104522     0.061612   \n",
      "Price                                    0.392863     0.472659   \n",
      "Number of rooms                          1.000000     0.664708   \n",
      "Living Area                              0.664708     1.000000   \n",
      "Fully equipped kitchen                        NaN          NaN   \n",
      "Terrace                                       NaN          NaN   \n",
      "Terrace area                             0.118573     0.113904   \n",
      "Garden                                        NaN          NaN   \n",
      "Garden area                              0.134906     0.164526   \n",
      "Surface of the land                      0.134906     0.164526   \n",
      "Surface area of the plot of land         0.126932     0.242829   \n",
      "Number of facades                        0.173178     0.187606   \n",
      "Swimming pool                            0.126559     0.191967   \n",
      "\n",
      "                                  Fully equipped kitchen  Terrace  \\\n",
      "id                                                   NaN      NaN   \n",
      "Locality                                             NaN      NaN   \n",
      "Price                                                NaN      NaN   \n",
      "Number of rooms                                      NaN      NaN   \n",
      "Living Area                                          NaN      NaN   \n",
      "Fully equipped kitchen                               NaN      NaN   \n",
      "Terrace                                              NaN      NaN   \n",
      "Terrace area                                         NaN      NaN   \n",
      "Garden                                               NaN      NaN   \n",
      "Garden area                                          NaN      NaN   \n",
      "Surface of the land                                  NaN      NaN   \n",
      "Surface area of the plot of land                     NaN      NaN   \n",
      "Number of facades                                    NaN      NaN   \n",
      "Swimming pool                                        NaN      NaN   \n",
      "\n",
      "                                  Terrace area  Garden  Garden area  \\\n",
      "id                                    0.013929     NaN     0.003840   \n",
      "Locality                              0.017622     NaN     0.016377   \n",
      "Price                                 0.103231     NaN     0.129611   \n",
      "Number of rooms                       0.118573     NaN     0.134906   \n",
      "Living Area                           0.113904     NaN     0.164526   \n",
      "Fully equipped kitchen                     NaN     NaN          NaN   \n",
      "Terrace                                    NaN     NaN          NaN   \n",
      "Terrace area                          1.000000     NaN     0.051763   \n",
      "Garden                                     NaN     NaN          NaN   \n",
      "Garden area                           0.051763     NaN     1.000000   \n",
      "Surface of the land                   0.051763     NaN     1.000000   \n",
      "Surface area of the plot of land      0.034083     NaN     0.321092   \n",
      "Number of facades                     0.073755     NaN     0.167737   \n",
      "Swimming pool                         0.052363     NaN     0.152462   \n",
      "\n",
      "                                  Surface of the land  \\\n",
      "id                                           0.003840   \n",
      "Locality                                     0.016377   \n",
      "Price                                        0.129611   \n",
      "Number of rooms                              0.134906   \n",
      "Living Area                                  0.164526   \n",
      "Fully equipped kitchen                            NaN   \n",
      "Terrace                                           NaN   \n",
      "Terrace area                                 0.051763   \n",
      "Garden                                            NaN   \n",
      "Garden area                                  1.000000   \n",
      "Surface of the land                          1.000000   \n",
      "Surface area of the plot of land             0.321092   \n",
      "Number of facades                            0.167737   \n",
      "Swimming pool                                0.152462   \n",
      "\n",
      "                                  Surface area of the plot of land  \\\n",
      "id                                                       -0.006360   \n",
      "Locality                                                  0.012804   \n",
      "Price                                                     0.217075   \n",
      "Number of rooms                                           0.126932   \n",
      "Living Area                                               0.242829   \n",
      "Fully equipped kitchen                                         NaN   \n",
      "Terrace                                                        NaN   \n",
      "Terrace area                                              0.034083   \n",
      "Garden                                                         NaN   \n",
      "Garden area                                               0.321092   \n",
      "Surface of the land                                       0.321092   \n",
      "Surface area of the plot of land                          1.000000   \n",
      "Number of facades                                         0.176387   \n",
      "Swimming pool                                             0.197461   \n",
      "\n",
      "                                  Number of facades  Swimming pool  \n",
      "id                                         0.031761       0.018000  \n",
      "Locality                                   0.096892       0.052172  \n",
      "Price                                      0.128878       0.211091  \n",
      "Number of rooms                            0.173178       0.126559  \n",
      "Living Area                                0.187606       0.191967  \n",
      "Fully equipped kitchen                          NaN            NaN  \n",
      "Terrace                                         NaN            NaN  \n",
      "Terrace area                               0.073755       0.052363  \n",
      "Garden                                          NaN            NaN  \n",
      "Garden area                                0.167737       0.152462  \n",
      "Surface of the land                        0.167737       0.152462  \n",
      "Surface area of the plot of land           0.176387       0.197461  \n",
      "Number of facades                          1.000000       0.174087  \n",
      "Swimming pool                              0.174087       1.000000  \n"
     ]
    }
   ],
   "source": [
    "print(\"correlation \\n\",correlation_matrix)"
   ]
  },
  {
   "cell_type": "markdown",
   "metadata": {},
   "source": [
    "### Which variables have the greatest influence on the price"
   ]
  },
  {
   "cell_type": "code",
   "execution_count": 195,
   "metadata": {},
   "outputs": [
    {
     "name": "stdout",
     "output_type": "stream",
     "text": [
      "top correlated variables with price \n",
      " Price                               1.000000\n",
      "Living Area                         0.472659\n",
      "Number of rooms                     0.392863\n",
      "Surface area of the plot of land    0.217075\n",
      "Swimming pool                       0.211091\n",
      "Surface of the land                 0.129611\n",
      "Garden area                         0.129611\n",
      "Number of facades                   0.128878\n",
      "Terrace area                        0.103231\n",
      "id                                  0.027931\n",
      "Locality                            0.023832\n",
      "Fully equipped kitchen                   NaN\n",
      "Terrace                                  NaN\n",
      "Garden                                   NaN\n",
      "Name: Price, dtype: float64\n"
     ]
    }
   ],
   "source": [
    "# let's calculate the the correlation matrix\n",
    "# first let's take only numbers\n",
    "Quantitative=df.select_dtypes(include=[\"number\"])\n",
    "\n",
    "correlation_matrix=Quantitative.corr()\n",
    "\n",
    "# now let's find the correlation between the variables and price\n",
    "if \"Price\" in df.columns:\n",
    "    price_correlation_with_Other_variables=correlation_matrix[\"Price\"]\n",
    "    top_coorelated = price_correlation_with_Other_variables.abs().sort_values(ascending=False)\n",
    "    print(f\"top correlated variables with price \\n {top_coorelated}\")"
   ]
  },
  {
   "cell_type": "code",
   "execution_count": 196,
   "metadata": {},
   "outputs": [
    {
     "name": "stdout",
     "output_type": "stream",
     "text": [
      "the least correlated variables with price \n",
      " Locality                            0.023832\n",
      "id                                  0.027931\n",
      "Terrace area                        0.103231\n",
      "Number of facades                   0.128878\n",
      "Surface of the land                 0.129611\n",
      "Garden area                         0.129611\n",
      "Swimming pool                       0.211091\n",
      "Surface area of the plot of land    0.217075\n",
      "Number of rooms                     0.392863\n",
      "Living Area                         0.472659\n",
      "Price                               1.000000\n",
      "Fully equipped kitchen                   NaN\n",
      "Terrace                                  NaN\n",
      "Garden                                   NaN\n",
      "Name: Price, dtype: float64\n"
     ]
    }
   ],
   "source": [
    "# now let's find the correlation between the variables and price\n",
    "if \"Price\" in df.columns:\n",
    "    price_correlation_with_Other_variables=correlation_matrix[\"Price\"]\n",
    "    top_coorelated = price_correlation_with_Other_variables.abs().sort_values(ascending=True)\n",
    "    print(f\"the least correlated variables with price \\n {top_coorelated}\")"
   ]
  },
  {
   "cell_type": "markdown",
   "metadata": {},
   "source": [
    "### How many qualitative and quantitative variables are there"
   ]
  },
  {
   "cell_type": "code",
   "execution_count": null,
   "metadata": {},
   "outputs": [
    {
     "name": "stdout",
     "output_type": "stream",
     "text": [
      "number of quantitatives are:14, number of qualitatives are: 5\n"
     ]
    },
    {
     "data": {
      "image/png": "[encoded data removed]",
      "text/plain": [
       "<Figure size 640x480 with 1 Axes>"
      ]
     },
     "metadata": {},
     "output_type": "display_data"
    }
   ],
   "source": [
    "Quantitative=len(df.select_dtypes(include=[\"float64\",\"int64\"]).columns)\n",
    "Qualitative=len(df.select_dtypes(include=[\"object\"]).columns)\n",
    "\n",
    "print(f\"number of quantitatives are:{Quantitative}, number of qualitatives are: {Qualitative}\")\n",
    "variables = ['Quantitative', 'Qualitative']\n",
    "counts = [Quantitative, Qualitative]\n",
    "fig, ax = plt.subplots()\n",
    "ax.bar(variables, counts, color=['blue', 'yellow'])\n",
    "ax.set_ylabel('Column count')\n",
    "ax.set_title('Number of Quantitative vs Qualitative')\n",
    "plt.show()"
   ]
  },
  {
   "cell_type": "markdown",
   "metadata": {},
   "source": [
    "### How would you transform these values into numerical values?"
   ]
  },
  {
   "cell_type": "code",
   "execution_count": 198,
   "metadata": {},
   "outputs": [
    {
     "name": "stdout",
     "output_type": "stream",
     "text": [
      "Index(['id', 'Locality', 'Type of property', 'Subtype of property', 'Price',\n",
      "       'Type of sale', 'Number of rooms', 'Living Area',\n",
      "       'Fully equipped kitchen', 'Terrace', 'Terrace area', 'Garden',\n",
      "       'Garden area', 'Surface of the land',\n",
      "       'Surface area of the plot of land', 'Number of facades',\n",
      "       'Swimming pool', 'State of the building', 'Compound Listing'],\n",
      "      dtype='object')\n"
     ]
    }
   ],
   "source": [
    "print((df.columns))"
   ]
  },
  {
   "cell_type": "markdown",
   "metadata": {},
   "source": [
    "Identifying Qualitative Columns: Categorical columns are identified and listed.\n",
    "One-Hot Encoding: Each categorical column is transformed into multiple binary columns.\n",
    "Concatenating: These binary columns are added to the original DataFrame.\n",
    "Dropping Originals: The original categorical columns are dropped since they have been encoded.\n",
    "Verification: The shape of the new DataFrame is displayed, and the original data is printed for inspection."
   ]
  },
  {
   "cell_type": "code",
   "execution_count": null,
   "metadata": {},
   "outputs": [
    {
     "name": "stdout",
     "output_type": "stream",
     "text": [
      "The shape of the dataset using ordinal encoding is (13965, 49)\n",
      "         id  Locality Type of property Subtype of property   Price  \\\n",
      "0  20320744      1150        APARTMENT           APARTMENT  575000   \n",
      "1  20317718      9000        APARTMENT           APARTMENT  390000   \n",
      "2  20315842      9051        APARTMENT           APARTMENT  260000   \n",
      "3  20315799      9051        APARTMENT           APARTMENT  325000   \n",
      "4  20315776      9051        APARTMENT           APARTMENT  365000   \n",
      "\n",
      "       Type of sale  Number of rooms  Living Area  Fully equipped kitchen  \\\n",
      "0  residential_sale                3        160.0                     1.0   \n",
      "1  residential_sale                3         96.0                     1.0   \n",
      "2  residential_sale                1         76.0                     1.0   \n",
      "3  residential_sale                1         81.0                     1.0   \n",
      "4  residential_sale                3        101.0                     1.0   \n",
      "\n",
      "   Terrace  Terrace area  Garden  Garden area  Surface of the land  \\\n",
      "0      1.0          40.0     1.0   290.000000           290.000000   \n",
      "1      1.0          29.0     1.0   519.796445           519.796445   \n",
      "2      1.0          12.0     1.0   519.796445           519.796445   \n",
      "3      1.0          13.0     1.0   519.796445           519.796445   \n",
      "4      1.0          13.0     1.0   519.796445           519.796445   \n",
      "\n",
      "   Surface area of the plot of land  Number of facades  Swimming pool  \\\n",
      "0                       1091.083161           2.707052       0.000000   \n",
      "1                       1091.083161           2.000000       0.000000   \n",
      "2                       1091.083161           2.707052       0.048839   \n",
      "3                       1091.083161           2.707052       0.048839   \n",
      "4                       1091.083161           2.707052       0.048839   \n",
      "\n",
      "  State of the building Compound Listing  \n",
      "0                dfGOOD           single  \n",
      "1                AS_NEW         compound  \n",
      "2                  GOOD         compound  \n",
      "3                  GOOD         compound  \n",
      "4                  GOOD         compound  \n"
     ]
    }
   ],
   "source": [
    "#one hot encoding - non ordinary, lable encoding-ordinary\n",
    "# Step 1: Identify qualitative (categorical) columns\n",
    "Qualitative = df.select_dtypes(include=['object','category']).columns\n",
    "\n",
    "# Make dataframe with one-hot encoding\n",
    "onehot_data = df.copy()\n",
    "for column in Qualitative:\n",
    "    dummy_data = pd.get_dummies(df[column])\n",
    "    onehot_data = pd.concat([onehot_data, dummy_data], axis=1)\n",
    "onehot_data.drop(Qualitative, axis=1, inplace=True)\n",
    "\n",
    "print(f'The shape of the dataset using ordinal encoding is {onehot_data.shape}')\n",
    "\n",
    "# Verify the transformation\n",
    "print(df.head())\n",
    "\n"
   ]
  },
  {
   "cell_type": "markdown",
   "metadata": {},
   "source": [
    "### Percentage of missing values per column"
   ]
  },
  {
   "cell_type": "code",
   "execution_count": 200,
   "metadata": {},
   "outputs": [
    {
     "name": "stdout",
     "output_type": "stream",
     "text": [
      "percentage of missing value per column: id                                  0.0\n",
      "Locality                            0.0\n",
      "Type of property                    0.0\n",
      "Subtype of property                 0.0\n",
      "Price                               0.0\n",
      "Type of sale                        0.0\n",
      "Number of rooms                     0.0\n",
      "Living Area                         0.0\n",
      "Fully equipped kitchen              0.0\n",
      "Terrace                             0.0\n",
      "Terrace area                        0.0\n",
      "Garden                              0.0\n",
      "Garden area                         0.0\n",
      "Surface of the land                 0.0\n",
      "Surface area of the plot of land    0.0\n",
      "Number of facades                   0.0\n",
      "Swimming pool                       0.0\n",
      "State of the building               0.0\n",
      "Compound Listing                    0.0\n",
      "dtype: float64\n"
     ]
    }
   ],
   "source": [
    "missing_percentage = df.isnull().mean() * 100\n",
    "print(f\"percentage of missing value per column: {missing_percentage}\")"
   ]
  },
  {
   "cell_type": "markdown",
   "metadata": {},
   "source": [
    "### To calculate correlation:\n",
    "Correlation requires numerical (quantitative) variables.\n",
    "Categorical variables (e.g., gender, color) cannot be directly used unless encoded numerically."
   ]
  },
  {
   "cell_type": "markdown",
   "metadata": {},
   "source": []
  }
 ],
 "metadata": {
  "kernelspec": {
   "display_name": "Python 3",
   "language": "python",
   "name": "python3"
  },
  "language_info": {
   "codemirror_mode": {
    "name": "ipython",
    "version": 3
   },
   "file_extension": ".py",
   "mimetype": "text/x-python",
   "name": "python",
   "nbconvert_exporter": "python",
   "pygments_lexer": "ipython3",
   "version": "3.12.7"
  }
 },
 "nbformat": 4,
 "nbformat_minor": 2
}
